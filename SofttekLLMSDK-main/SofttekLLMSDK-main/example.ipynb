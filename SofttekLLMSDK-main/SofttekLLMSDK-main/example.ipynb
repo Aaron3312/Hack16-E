{
 "cells": [
  {
   "cell_type": "code",
   "execution_count": 1,
   "metadata": {},
   "outputs": [
    {
     "name": "stdout",
     "output_type": "stream",
     "text": [
      "Collecting git+https://github.com/Fridaplatform/SofttekLLMSDK.git\n",
      "  Cloning https://github.com/Fridaplatform/SofttekLLMSDK.git to c:\\users\\joses\\appdata\\local\\temp\\pip-req-build-uy6gir7z\n",
      "  Resolved https://github.com/Fridaplatform/SofttekLLMSDK.git to commit 0f11c8ed07889b9e13a360509e81b4703e03bc0f\n",
      "  Installing build dependencies: started\n",
      "  Installing build dependencies: finished with status 'done'\n",
      "  Getting requirements to build wheel: started\n",
      "  Getting requirements to build wheel: finished with status 'done'\n",
      "  Preparing metadata (pyproject.toml): started\n",
      "  Preparing metadata (pyproject.toml): finished with status 'done'\n",
      "Requirement already satisfied: aiohttp==3.8.5 in c:\\python311\\lib\\site-packages (from innovation-stk==0.0.1) (3.8.5)\n",
      "Requirement already satisfied: aiosignal==1.3.1 in c:\\python311\\lib\\site-packages (from innovation-stk==0.0.1) (1.3.1)\n",
      "Requirement already satisfied: annotated-types==0.5.0 in c:\\python311\\lib\\site-packages (from innovation-stk==0.0.1) (0.5.0)\n",
      "Requirement already satisfied: async-timeout==4.0.3 in c:\\python311\\lib\\site-packages (from innovation-stk==0.0.1) (4.0.3)\n",
      "Requirement already satisfied: attrs==23.1.0 in c:\\python311\\lib\\site-packages (from innovation-stk==0.0.1) (23.1.0)\n",
      "Requirement already satisfied: certifi==2023.7.22 in c:\\python311\\lib\\site-packages (from innovation-stk==0.0.1) (2023.7.22)\n",
      "Requirement already satisfied: charset-normalizer==3.2.0 in c:\\python311\\lib\\site-packages (from innovation-stk==0.0.1) (3.2.0)\n",
      "Requirement already satisfied: colorama==0.4.6 in c:\\python311\\lib\\site-packages (from innovation-stk==0.0.1) (0.4.6)\n",
      "Requirement already satisfied: dnspython==2.4.2 in c:\\python311\\lib\\site-packages (from innovation-stk==0.0.1) (2.4.2)\n",
      "Requirement already satisfied: et-xmlfile==1.1.0 in c:\\python311\\lib\\site-packages (from innovation-stk==0.0.1) (1.1.0)\n",
      "Requirement already satisfied: frozenlist==1.4.0 in c:\\python311\\lib\\site-packages (from innovation-stk==0.0.1) (1.4.0)\n",
      "Requirement already satisfied: idna==3.4 in c:\\python311\\lib\\site-packages (from innovation-stk==0.0.1) (3.4)\n",
      "Requirement already satisfied: loguru==0.7.2 in c:\\python311\\lib\\site-packages (from innovation-stk==0.0.1) (0.7.2)\n",
      "Requirement already satisfied: multidict==6.0.4 in c:\\python311\\lib\\site-packages (from innovation-stk==0.0.1) (6.0.4)\n",
      "Requirement already satisfied: numpy==1.25.2 in c:\\python311\\lib\\site-packages (from innovation-stk==0.0.1) (1.25.2)\n",
      "Requirement already satisfied: openai==0.28.0 in c:\\python311\\lib\\site-packages (from innovation-stk==0.0.1) (0.28.0)\n",
      "Requirement already satisfied: openpyxl==3.1.2 in c:\\python311\\lib\\site-packages (from innovation-stk==0.0.1) (3.1.2)\n",
      "Requirement already satisfied: pandas==2.1.0 in c:\\python311\\lib\\site-packages (from innovation-stk==0.0.1) (2.1.0)\n",
      "Requirement already satisfied: pandas-stubs==2.0.3.230814 in c:\\python311\\lib\\site-packages (from innovation-stk==0.0.1) (2.0.3.230814)\n",
      "Requirement already satisfied: pinecone-client==2.2.4 in c:\\python311\\lib\\site-packages (from innovation-stk==0.0.1) (2.2.4)\n",
      "Requirement already satisfied: pydantic==2.3.0 in c:\\python311\\lib\\site-packages (from innovation-stk==0.0.1) (2.3.0)\n",
      "Requirement already satisfied: pydantic-core==2.6.3 in c:\\python311\\lib\\site-packages (from innovation-stk==0.0.1) (2.6.3)\n",
      "Requirement already satisfied: python-dateutil==2.8.2 in c:\\python311\\lib\\site-packages (from innovation-stk==0.0.1) (2.8.2)\n",
      "Requirement already satisfied: python-dotenv==1.0.0 in c:\\python311\\lib\\site-packages (from innovation-stk==0.0.1) (1.0.0)\n",
      "Requirement already satisfied: pytz==2023.3.post1 in c:\\python311\\lib\\site-packages (from innovation-stk==0.0.1) (2023.3.post1)\n",
      "Requirement already satisfied: PyYAML==6.0.1 in c:\\python311\\lib\\site-packages (from innovation-stk==0.0.1) (6.0.1)\n",
      "Requirement already satisfied: requests==2.31.0 in c:\\python311\\lib\\site-packages (from innovation-stk==0.0.1) (2.31.0)\n",
      "Requirement already satisfied: six==1.16.0 in c:\\python311\\lib\\site-packages (from innovation-stk==0.0.1) (1.16.0)\n",
      "Requirement already satisfied: tqdm==4.66.1 in c:\\python311\\lib\\site-packages (from innovation-stk==0.0.1) (4.66.1)\n",
      "Requirement already satisfied: types-pytz==2023.3.0.1 in c:\\python311\\lib\\site-packages (from innovation-stk==0.0.1) (2023.3.0.1)\n",
      "Requirement already satisfied: typing-extensions==4.7.1 in c:\\python311\\lib\\site-packages (from innovation-stk==0.0.1) (4.7.1)\n",
      "Requirement already satisfied: tzdata==2023.3 in c:\\python311\\lib\\site-packages (from innovation-stk==0.0.1) (2023.3)\n",
      "Requirement already satisfied: urllib3==2.0.4 in c:\\python311\\lib\\site-packages (from innovation-stk==0.0.1) (2.0.4)\n",
      "Requirement already satisfied: win32-setctime==1.1.0 in c:\\python311\\lib\\site-packages (from innovation-stk==0.0.1) (1.1.0)\n",
      "Requirement already satisfied: yarl==1.9.2 in c:\\python311\\lib\\site-packages (from innovation-stk==0.0.1) (1.9.2)\n",
      "Note: you may need to restart the kernel to use updated packages.\n"
     ]
    },
    {
     "name": "stderr",
     "output_type": "stream",
     "text": [
      "  Running command git clone --filter=blob:none --quiet https://github.com/Fridaplatform/SofttekLLMSDK.git 'C:\\Users\\joses\\AppData\\Local\\Temp\\pip-req-build-uy6gir7z'\n"
     ]
    }
   ],
   "source": [
    "pip install git+https://github.com/Fridaplatform/SofttekLLMSDK.git"
   ]
  },
  {
   "cell_type": "code",
   "execution_count": 2,
   "metadata": {},
   "outputs": [
    {
     "name": "stderr",
     "output_type": "stream",
     "text": [
      "c:\\Python311\\Lib\\site-packages\\pinecone\\index.py:4: TqdmWarning: IProgress not found. Please update jupyter and ipywidgets. See https://ipywidgets.readthedocs.io/en/stable/user_install.html\n",
      "  from tqdm.autonotebook import tqdm\n"
     ]
    }
   ],
   "source": [
    "import os\n",
    "from softtek_llm.chatbot import Chatbot\n",
    "from softtek_llm.models import OpenAI\n",
    "from softtek_llm.cache import Cache\n",
    "from softtek_llm.vectorStores import PineconeVectorStore\n",
    "from softtek_llm.embeddings import OpenAIEmbeddings\n",
    "from softtek_llm.schemas import Filter\n",
    "from dotenv import load_dotenv"
   ]
  },
  {
   "cell_type": "code",
   "execution_count": 3,
   "metadata": {},
   "outputs": [],
   "source": [
    "load_dotenv()\n",
    "OPENAI_API_KEY = os.getenv(\"OPENAI_API_KEY\")\n",
    "if OPENAI_API_KEY is None:\n",
    "    raise ValueError(\"OPENAI_API_KEY not found in .env file\")\n",
    "\n",
    "OPENAI_API_BASE = os.getenv(\"OPENAI_API_BASE\")\n",
    "if OPENAI_API_BASE is None:\n",
    "    raise ValueError(\"OPENAI_API_BASE not found in .env file\")\n",
    "\n",
    "OPENAI_EMBEDDINGS_MODEL_NAME = os.getenv(\"OPENAI_EMBEDDINGS_MODEL_NAME\")\n",
    "if OPENAI_EMBEDDINGS_MODEL_NAME is None:\n",
    "    raise ValueError(\"OPENAI_EMBEDDINGS_MODEL_NAME not found in .env file\")\n",
    "\n",
    "OPENAI_CHAT_MODEL_NAME = os.getenv(\"OPENAI_CHAT_MODEL_NAME\")\n",
    "if OPENAI_CHAT_MODEL_NAME is None:\n",
    "    raise ValueError(\"OPENAI_CHAT_MODEL_NAME not found in .env file\")\n",
    "PINECONE_API_KEY = os.getenv(\"PINECONE_API_KEY\")\n",
    "if PINECONE_API_KEY is None:\n",
    "    raise ValueError(\"PINECONE_API_KEY not found in .env file\")\n",
    "\n",
    "PINECONE_ENVIRONMENT = os.getenv(\"PINECONE_ENVIRONMENT\")\n",
    "if PINECONE_ENVIRONMENT is None:\n",
    "    raise ValueError(\"PINECONE_ENVIRONMENT not found in .env file\")\n",
    "\n",
    "PINECONE_INDEX_NAME = os.getenv(\"PINECONE_INDEX_NAME\")\n",
    "if PINECONE_INDEX_NAME is None:\n",
    "    raise ValueError(\"PINECONE_INDEX_NAME not found in .env file\")"
   ]
  },
  {
   "cell_type": "code",
   "execution_count": 4,
   "metadata": {},
   "outputs": [],
   "source": [
    "vector_store = PineconeVectorStore(\n",
    "    api_key=PINECONE_API_KEY,\n",
    "    environment=PINECONE_ENVIRONMENT,\n",
    "    index_name=PINECONE_INDEX_NAME,\n",
    ")\n",
    "embeddings_model = OpenAIEmbeddings(\n",
    "    api_key=OPENAI_API_KEY,\n",
    "    model_name=OPENAI_EMBEDDINGS_MODEL_NAME,\n",
    "    api_type=\"azure\",\n",
    "    api_base=OPENAI_API_BASE,\n",
    ")\n",
    "cache = Cache(\n",
    "    vector_store=vector_store,\n",
    "    embeddings_model=embeddings_model,\n",
    ")\n",
    "model = OpenAI(\n",
    "    api_key=OPENAI_API_KEY,\n",
    "    model_name=OPENAI_CHAT_MODEL_NAME,\n",
    "    api_type=\"azure\",\n",
    "    api_base=OPENAI_API_BASE,\n",
    "    verbose=False,\n",
    ")\n",
    "filters = [\n",
    "    Filter(\n",
    "        type=\"DENY\",\n",
    "        case=\"ANYTHING about the Titanic. YOU CANNOT talk about the Titanic AT ALL.\",\n",
    "    )\n",
    "]\n",
    "chatbot = Chatbot(\n",
    "    model=model,\n",
    "    description=\"You are a very helpful and polite chatbot\",\n",
    "    filters=filters,\n",
    "    cache=cache,\n",
    "    verbose=False,\n",
    ")"
   ]
  },
  {
   "cell_type": "code",
   "execution_count": 17,
   "metadata": {},
   "outputs": [
    {
     "name": "stdout",
     "output_type": "stream",
     "text": [
      "Cache score: 1.00000012\n"
     ]
    }
   ],
   "source": [
    "response = chatbot.chat(\n",
    "    \"Hello! My name is Jeff.\",\n",
    "    print_cache_score=True\n",
    ")"
   ]
  },
  {
   "cell_type": "code",
   "execution_count": 6,
   "metadata": {},
   "outputs": [
    {
     "data": {
      "text/plain": [
       "Response(message=Message(role='assistant', content=\"Hello Jeff! It's a pleasure to meet you. How can I assist you today?\"), created=1695523908, latency=880, from_cache=False, model='gpt-35-turbo-16k', usage=Usage(prompt_tokens=27, completion_tokens=18, total_tokens=45), additional_kwargs={})"
      ]
     },
     "execution_count": 6,
     "metadata": {},
     "output_type": "execute_result"
    }
   ],
   "source": [
    "response"
   ]
  },
  {
   "cell_type": "code",
   "execution_count": 15,
   "metadata": {},
   "outputs": [],
   "source": [
    "response = chatbot.chat(\n",
    "    \"What is my name?\",\n",
    "    print_cache_score=True\n",
    ")"
   ]
  },
  {
   "cell_type": "code",
   "execution_count": 16,
   "metadata": {},
   "outputs": [
    {
     "data": {
      "text/plain": [
       "Response(message=Message(role='assistant', content=\"I apologize if there is any confusion, but I don't have access to personal information unless you provide it to me.\"), created=1695524571, latency=1586, from_cache=False, model='gpt-35-turbo-16k', usage=Usage(prompt_tokens=188, completion_tokens=24, total_tokens=212), additional_kwargs={})"
      ]
     },
     "execution_count": 16,
     "metadata": {},
     "output_type": "execute_result"
    }
   ],
   "source": [
    "response"
   ]
  },
  {
   "cell_type": "code",
   "execution_count": 2,
   "metadata": {},
   "outputs": [
    {
     "ename": "NameError",
     "evalue": "name 'chatbot' is not defined",
     "output_type": "error",
     "traceback": [
      "\u001b[1;31m---------------------------------------------------------------------------\u001b[0m",
      "\u001b[1;31mNameError\u001b[0m                                 Traceback (most recent call last)",
      "\u001b[1;32mc:\\Users\\joses\\OneDrive\\Escritorio\\FaHacks\\Hack16-E\\SofttekLLMSDK-main\\SofttekLLMSDK-main\\example.ipynb Cell 9\u001b[0m line \u001b[0;36m1\n\u001b[1;32m----> <a href='vscode-notebook-cell:/c%3A/Users/joses/OneDrive/Escritorio/FaHacks/Hack16-E/SofttekLLMSDK-main/SofttekLLMSDK-main/example.ipynb#X26sZmlsZQ%3D%3D?line=0'>1</a>\u001b[0m response \u001b[39m=\u001b[39m chatbot\u001b[39m.\u001b[39mchat(\n\u001b[0;32m      <a href='vscode-notebook-cell:/c%3A/Users/joses/OneDrive/Escritorio/FaHacks/Hack16-E/SofttekLLMSDK-main/SofttekLLMSDK-main/example.ipynb#X26sZmlsZQ%3D%3D?line=1'>2</a>\u001b[0m     \u001b[39m\"\u001b[39m\u001b[39mWhen did the Titanic sink?\u001b[39m\u001b[39m\"\u001b[39m,\n\u001b[0;32m      <a href='vscode-notebook-cell:/c%3A/Users/joses/OneDrive/Escritorio/FaHacks/Hack16-E/SofttekLLMSDK-main/SofttekLLMSDK-main/example.ipynb#X26sZmlsZQ%3D%3D?line=2'>3</a>\u001b[0m     print_cache_score\u001b[39m=\u001b[39m\u001b[39mTrue\u001b[39;00m\n\u001b[0;32m      <a href='vscode-notebook-cell:/c%3A/Users/joses/OneDrive/Escritorio/FaHacks/Hack16-E/SofttekLLMSDK-main/SofttekLLMSDK-main/example.ipynb#X26sZmlsZQ%3D%3D?line=3'>4</a>\u001b[0m )\n",
      "\u001b[1;31mNameError\u001b[0m: name 'chatbot' is not defined"
     ]
    }
   ],
   "source": [
    "response = chatbot.chat(\n",
    "    \"When did the Titanic sink?\",\n",
    "    print_cache_score=True\n",
    ")"
   ]
  },
  {
   "cell_type": "code",
   "execution_count": 10,
   "metadata": {},
   "outputs": [],
   "source": [
    "chatbot.cache.vector_store.delete(delete_all=True)"
   ]
  }
 ],
 "metadata": {
  "kernelspec": {
   "display_name": ".venv",
   "language": "python",
   "name": "python3"
  },
  "language_info": {
   "codemirror_mode": {
    "name": "ipython",
    "version": 3
   },
   "file_extension": ".py",
   "mimetype": "text/x-python",
   "name": "python",
   "nbconvert_exporter": "python",
   "pygments_lexer": "ipython3",
   "version": "3.11.3"
  },
  "orig_nbformat": 4
 },
 "nbformat": 4,
 "nbformat_minor": 2
}
