{
 "cells": [
  {
   "cell_type": "code",
   "execution_count": 19,
   "metadata": {},
   "outputs": [],
   "source": [
    "import os\n",
    "from PyPDF2 import PdfReader\n",
    "from softtek_llm.chatbot import Chatbot\n",
    "from softtek_llm.models import OpenAI\n",
    "from softtek_llm.cache import Cache\n",
    "from softtek_llm.vectorStores import PineconeVectorStore\n",
    "from softtek_llm.embeddings import OpenAIEmbeddings\n",
    "from softtek_llm.schemas import Filter\n",
    "from dotenv import load_dotenv"
   ]
  },
  {
   "cell_type": "code",
   "execution_count": 20,
   "metadata": {},
   "outputs": [],
   "source": [
    "load_dotenv()\n",
    "OPENAI_API_KEY = os.getenv(\"OPENAI_API_KEY\")\n",
    "if OPENAI_API_KEY is None:\n",
    "    raise ValueError(\"OPENAI_API_KEY not found in .env file\")\n",
    "\n",
    "OPENAI_API_BASE = os.getenv(\"OPENAI_API_BASE\")\n",
    "if OPENAI_API_BASE is None:\n",
    "    raise ValueError(\"OPENAI_API_BASE not found in .env file\")\n",
    "\n",
    "OPENAI_EMBEDDINGS_MODEL_NAME = os.getenv(\"OPENAI_EMBEDDINGS_MODEL_NAME\")\n",
    "if OPENAI_EMBEDDINGS_MODEL_NAME is None:\n",
    "    raise ValueError(\"OPENAI_EMBEDDINGS_MODEL_NAME not found in .env file\")\n",
    "\n",
    "OPENAI_CHAT_MODEL_NAME = os.getenv(\"OPENAI_CHAT_MODEL_NAME\")\n",
    "if OPENAI_CHAT_MODEL_NAME is None:\n",
    "    raise ValueError(\"OPENAI_CHAT_MODEL_NAME not found in .env file\")\n",
    "PINECONE_API_KEY = os.getenv(\"PINECONE_API_KEY\")\n",
    "if PINECONE_API_KEY is None:\n",
    "    raise ValueError(\"PINECONE_API_KEY not found in .env file\")\n",
    "\n",
    "PINECONE_ENVIRONMENT = os.getenv(\"PINECONE_ENVIRONMENT\")\n",
    "if PINECONE_ENVIRONMENT is None:\n",
    "    raise ValueError(\"PINECONE_ENVIRONMENT not found in .env file\")\n",
    "\n",
    "PINECONE_INDEX_NAME = os.getenv(\"PINECONE_INDEX_NAME\")\n",
    "if PINECONE_INDEX_NAME is None:\n",
    "    raise ValueError(\"PINECONE_INDEX_NAME not found in .env file\")\n"
   ]
  },
  {
   "cell_type": "code",
   "execution_count": 22,
   "metadata": {},
   "outputs": [],
   "source": [
    "vector_store = PineconeVectorStore(\n",
    "    api_key=PINECONE_API_KEY,\n",
    "    environment=PINECONE_ENVIRONMENT,\n",
    "    index_name=PINECONE_INDEX_NAME,\n",
    ")\n",
    "embeddings_model = OpenAIEmbeddings(\n",
    "    api_key=OPENAI_API_KEY,\n",
    "    model_name=OPENAI_EMBEDDINGS_MODEL_NAME,\n",
    "    api_type=\"azure\",\n",
    "    api_base=OPENAI_API_BASE,\n",
    ")\n",
    "cache = Cache(\n",
    "    vector_store=vector_store,\n",
    "    embeddings_model=embeddings_model,\n",
    ")\n",
    "model = OpenAI(\n",
    "    api_key=OPENAI_API_KEY,\n",
    "    model_name=OPENAI_CHAT_MODEL_NAME,\n",
    "    api_type=\"azure\",\n",
    "    api_base=OPENAI_API_BASE,\n",
    "    verbose=False,\n",
    ")\n",
    "#filters = [\n",
    "#    Filter(\n",
    "#    )\n",
    "#]\n",
    "chatbot = Chatbot(\n",
    "    model=model,\n",
    "    description=\"You are a very helpful and polite chatbot\",\n",
    "    filters=filters,\n",
    "    cache=cache,\n",
    "    verbose=False,\n",
    ")\n"
   ]
  },
  {
   "cell_type": "code",
   "execution_count": 23,
   "metadata": {},
   "outputs": [],
   "source": [
    "# Especifica el nombre del archivo PDF directamente\n",
    "nombre_archivo_pdf = \"pdfgg5.pdf\"  # Reemplaza con el nombre de tu archivo PDF\n",
    "\n",
    "# Intentar abrir y leer el contenido del archivo PDF\n",
    "try:\n",
    "    pdf_reader = PdfReader(nombre_archivo_pdf)\n",
    "    texto_a_resumir = \"\"\n",
    "    for page in pdf_reader.pages:\n",
    "        texto_a_resumir += page.extract_text()\n",
    "except FileNotFoundError:\n",
    "    print(f\"El archivo '{nombre_archivo_pdf}' no fue encontrado.\")\n",
    "    exit()"
   ]
  },
  {
   "cell_type": "code",
   "execution_count": 24,
   "metadata": {},
   "outputs": [
    {
     "name": "stdout",
     "output_type": "stream",
     "text": [
      "Cache score: 0.999154866\n"
     ]
    }
   ],
   "source": [
    "response = chatbot.chat(\n",
    "    prompt=f\"Summary of the following text:\\n{texto_a_resumir}\\n\\Summary:\",\n",
    "    print_cache_score=True\n",
    ")"
   ]
  },
  {
   "cell_type": "code",
   "execution_count": 25,
   "metadata": {},
   "outputs": [
    {
     "data": {
      "text/plain": [
       "Response(message=Message(role='assistant', content=\"Until my last update in September 2021, OpenAI did not provide a specific API for directly summarizing text content from files (e.g., .txt). The OpenAI API at that time was more focused on text generation and answering text-based questions.\\n\\nTo create a chatbot that summarizes the content of a .txt file, you would generally need to use natural language processing (NLP) libraries and techniques. A common approach would be to use a Python library like NLTK (Natural Language Toolkit) or spaCy to process the text and generate a summary.\\n\\nHere's a basic example of how you could use the NLTK library to summarize a .txt file:\\n\\n1. Read the contents of the .txt file.\\n2. Preprocess the text by tokenizing it into sentences or words.\\n3. Perform any necessary cleaning or filtering of the text.\\n4. Use NLTK's summarization methods (e.g., extracting important sentences, using algorithms like TextRank) to generate a summary.\\n5. Output the summary generated by NLTK.\\n\\nPlease note that this is just a general explanation, and the specific implementation details may vary depending on your requirements and the complexity of the text you are summarizing.\"), created=1695548228, latency=531, from_cache=True, model='gpt-35-turbo-16k', usage=Usage(prompt_tokens=0, completion_tokens=0, total_tokens=0), additional_kwargs={})"
      ]
     },
     "execution_count": 25,
     "metadata": {},
     "output_type": "execute_result"
    }
   ],
   "source": [
    "response"
   ]
  }
 ],
 "metadata": {
  "kernelspec": {
   "display_name": "Python 3",
   "language": "python",
   "name": "python3"
  },
  "language_info": {
   "codemirror_mode": {
    "name": "ipython",
    "version": 3
   },
   "file_extension": ".py",
   "mimetype": "text/x-python",
   "name": "python",
   "nbconvert_exporter": "python",
   "pygments_lexer": "ipython3",
   "version": "3.11.3"
  },
  "orig_nbformat": 4
 },
 "nbformat": 4,
 "nbformat_minor": 2
}
