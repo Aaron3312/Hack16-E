{
 "cells": [
  {
   "cell_type": "code",
   "execution_count": 2,
   "metadata": {},
   "outputs": [
    {
     "ename": "IndentationError",
     "evalue": "unexpected indent (521934267.py, line 8)",
     "output_type": "error",
     "traceback": [
      "\u001b[1;36m  Cell \u001b[1;32mIn[2], line 8\u001b[1;36m\u001b[0m\n\u001b[1;33m    nombre_archivo_pdf = input(\"Por favor, ingresa el nombre del archivo PDF: \")\u001b[0m\n\u001b[1;37m    ^\u001b[0m\n\u001b[1;31mIndentationError\u001b[0m\u001b[1;31m:\u001b[0m unexpected indent\n"
     ]
    }
   ],
   "source": [
    "#import openai\n",
    "import PyPDF2\n",
    "\n",
    "# Configura tu clave de API de OpenAI\n",
    "openai.api_key = \"6b25369971534252bbcee5e488ce59f1r\"\n",
    "\n",
    "# Solicitar al usuario el nombre del archivo PDF\n",
    " nombre_archivo_pdf = input(\"Por favor, ingresa el nombre del archivo PDF: \")\n",
    "\n",
    "# Intentar abrir y leer el contenido del archivo PDF\n",
    "try:\n",
    "    pdf_file = open(\"pdfgg5.pdf\", \"rb\")\n",
    "    pdf_reader = PyPDF2.PdfFileReader(pdf_file)\n",
    "    texto_a_resumir = \"\"\n",
    "    for page_number in range(pdf_reader.numPages):\n",
    "        page = pdf_reader.getPage(page_number)\n",
    "        texto_a_resumir += page.extractText()\n",
    "    pdf_file.close()\n",
    "except FileNotFoundError:\n",
    "    print(f\"El archivo '{nombre_archivo_pdf}' no fue encontrado.\")\n",
    "    exit()\n",
    "\n",
    "# Utilizar la API de OpenAI para generar un resumen\n",
    "response = openai.Completion.create(\n",
    "    engine=\"text-davinci-002\",\n",
    "    prompt=f\"Resumen del siguiente texto:\\n{texto_a_resumir}\\n\\nResumen:\",\n",
    "    max_tokens=150,\n",
    ")\n",
    "\n",
    "# Imprimir el resumen generado\n",
    "print(\"Resumen del contenido del PDF:\")\n",
    "print(response.choices[0].text)\n"
   ]
  }
 ],
 "metadata": {
  "kernelspec": {
   "display_name": "Python 3",
   "language": "python",
   "name": "python3"
  },
  "language_info": {
   "codemirror_mode": {
    "name": "ipython",
    "version": 3
   },
   "file_extension": ".py",
   "mimetype": "text/x-python",
   "name": "python",
   "nbconvert_exporter": "python",
   "pygments_lexer": "ipython3",
   "version": "3.11.3"
  },
  "orig_nbformat": 4
 },
 "nbformat": 4,
 "nbformat_minor": 2
}
